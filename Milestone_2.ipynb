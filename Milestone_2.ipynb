{
  "nbformat": 4,
  "nbformat_minor": 0,
  "metadata": {
    "colab": {
      "name": "Milestone 2",
      "provenance": [],
      "collapsed_sections": []
    },
    "kernelspec": {
      "name": "python3",
      "display_name": "Python 3"
    },
    "language_info": {
      "name": "python"
    }
  },
  "cells": [
    {
      "cell_type": "markdown",
      "metadata": {
        "id": "t_sPaw9Cb1rf"
      },
      "source": [
        "### importing the data"
      ]
    },
    {
      "cell_type": "markdown",
      "metadata": {
        "id": "_l8Wm_ClqSkl"
      },
      "source": [
        "To load the dataset we import it in different smaller chunks, otherwise, due to its size, it wouldn't be possible load it."
      ]
    },
    {
      "cell_type": "code",
      "metadata": {
        "colab": {
          "base_uri": "https://localhost:8080/"
        },
        "id": "YQLjF65VbqVI",
        "outputId": "1284f0f0-4ece-47b0-dceb-63b5f6701780"
      },
      "source": [
        "from google.colab import drive\n",
        "drive.mount('/content/drive')"
      ],
      "execution_count": 1,
      "outputs": [
        {
          "output_type": "stream",
          "name": "stdout",
          "text": [
            "Drive already mounted at /content/drive; to attempt to forcibly remount, call drive.mount(\"/content/drive\", force_remount=True).\n"
          ]
        }
      ]
    },
    {
      "cell_type": "markdown",
      "metadata": {
        "id": "NBjm2K3RqmvK"
      },
      "source": [
        "To use the import in chunks we first need to set the pandas version to 1.0.5"
      ]
    },
    {
      "cell_type": "code",
      "metadata": {
        "colab": {
          "base_uri": "https://localhost:8080/"
        },
        "id": "nt6Ru1jmb0nx",
        "outputId": "e1f70bf2-d939-47a2-9965-f4a8f1985d4b"
      },
      "source": [
        "!pip install pandas==1.0.5"
      ],
      "execution_count": 2,
      "outputs": [
        {
          "output_type": "stream",
          "name": "stdout",
          "text": [
            "Requirement already satisfied: pandas==1.0.5 in /usr/local/lib/python3.7/dist-packages (1.0.5)\n",
            "Requirement already satisfied: python-dateutil>=2.6.1 in /usr/local/lib/python3.7/dist-packages (from pandas==1.0.5) (2.8.2)\n",
            "Requirement already satisfied: pytz>=2017.2 in /usr/local/lib/python3.7/dist-packages (from pandas==1.0.5) (2018.9)\n",
            "Requirement already satisfied: numpy>=1.13.3 in /usr/local/lib/python3.7/dist-packages (from pandas==1.0.5) (1.19.5)\n",
            "Requirement already satisfied: six>=1.5 in /usr/local/lib/python3.7/dist-packages (from python-dateutil>=2.6.1->pandas==1.0.5) (1.15.0)\n"
          ]
        }
      ]
    },
    {
      "cell_type": "code",
      "metadata": {
        "id": "fwupHKcD7yQk"
      },
      "source": [
        "import pandas as pd\n",
        "import numpy as np\n",
        "import matplotlib.pyplot as plt"
      ],
      "execution_count": 3,
      "outputs": []
    },
    {
      "cell_type": "markdown",
      "metadata": {
        "id": "34AdCjakcXIm"
      },
      "source": [
        "#### Start looking at smaller chunks to prepare a data cleaning pipeline"
      ]
    },
    {
      "cell_type": "code",
      "metadata": {
        "id": "Tjze7quMzcBd"
      },
      "source": [
        "# Here we load into memory just the first chunk to take a look at the data and use it to prepare a cleaning pipeline that will\n",
        "# be used for our entire final dataset\n",
        "df_reader = pd.read_json('/content/drive/MyDrive/Quotebank/quotes-2020.json.bz2', lines=True, compression='bz2', chunksize=1000000)\n",
        "for chunk in df_reader:\n",
        "   chunk_test = chunk\n",
        "   break"
      ],
      "execution_count": 4,
      "outputs": []
    },
    {
      "cell_type": "code",
      "metadata": {
        "colab": {
          "base_uri": "https://localhost:8080/"
        },
        "id": "7YjO8EEpDm8f",
        "outputId": "af0088a0-6cf4-475d-e062-95074e6bfb96"
      },
      "source": [
        "chunk_test.columns"
      ],
      "execution_count": 5,
      "outputs": [
        {
          "output_type": "execute_result",
          "data": {
            "text/plain": [
              "Index(['quoteID', 'quotation', 'speaker', 'qids', 'date', 'numOccurrences',\n",
              "       'probas', 'urls', 'phase'],\n",
              "      dtype='object')"
            ]
          },
          "metadata": {},
          "execution_count": 5
        }
      ]
    },
    {
      "cell_type": "code",
      "metadata": {
        "colab": {
          "base_uri": "https://localhost:8080/",
          "height": 405
        },
        "id": "PBjKpZdyDs2h",
        "outputId": "f3c1e2ca-252b-4bbb-c5f4-33d394794d7e"
      },
      "source": [
        "chunk_test.head()"
      ],
      "execution_count": 6,
      "outputs": [
        {
          "output_type": "execute_result",
          "data": {
            "text/html": [
              "<div>\n",
              "<style scoped>\n",
              "    .dataframe tbody tr th:only-of-type {\n",
              "        vertical-align: middle;\n",
              "    }\n",
              "\n",
              "    .dataframe tbody tr th {\n",
              "        vertical-align: top;\n",
              "    }\n",
              "\n",
              "    .dataframe thead th {\n",
              "        text-align: right;\n",
              "    }\n",
              "</style>\n",
              "<table border=\"1\" class=\"dataframe\">\n",
              "  <thead>\n",
              "    <tr style=\"text-align: right;\">\n",
              "      <th></th>\n",
              "      <th>quoteID</th>\n",
              "      <th>quotation</th>\n",
              "      <th>speaker</th>\n",
              "      <th>qids</th>\n",
              "      <th>date</th>\n",
              "      <th>numOccurrences</th>\n",
              "      <th>probas</th>\n",
              "      <th>urls</th>\n",
              "      <th>phase</th>\n",
              "    </tr>\n",
              "  </thead>\n",
              "  <tbody>\n",
              "    <tr>\n",
              "      <th>0</th>\n",
              "      <td>2020-01-28-000082</td>\n",
              "      <td>[ D ] espite the efforts of the partners to cr...</td>\n",
              "      <td>None</td>\n",
              "      <td>[]</td>\n",
              "      <td>2020-01-28 08:04:05</td>\n",
              "      <td>1</td>\n",
              "      <td>[[None, 0.7272], [Prime Minister Netanyahu, 0....</td>\n",
              "      <td>[http://israelnationalnews.com/News/News.aspx/...</td>\n",
              "      <td>E</td>\n",
              "    </tr>\n",
              "    <tr>\n",
              "      <th>1</th>\n",
              "      <td>2020-01-16-000088</td>\n",
              "      <td>[ Department of Homeland Security ] was livid ...</td>\n",
              "      <td>Sue Myrick</td>\n",
              "      <td>[Q367796]</td>\n",
              "      <td>2020-01-16 12:00:13</td>\n",
              "      <td>1</td>\n",
              "      <td>[[Sue Myrick, 0.8867], [None, 0.0992], [Ron Wy...</td>\n",
              "      <td>[http://thehill.com/opinion/international/4782...</td>\n",
              "      <td>E</td>\n",
              "    </tr>\n",
              "    <tr>\n",
              "      <th>2</th>\n",
              "      <td>2020-02-10-000142</td>\n",
              "      <td>... He (Madhav) also disclosed that the illega...</td>\n",
              "      <td>None</td>\n",
              "      <td>[]</td>\n",
              "      <td>2020-02-10 23:45:54</td>\n",
              "      <td>1</td>\n",
              "      <td>[[None, 0.8926], [Prakash Rai, 0.1074]]</td>\n",
              "      <td>[https://indianexpress.com/article/business/ec...</td>\n",
              "      <td>E</td>\n",
              "    </tr>\n",
              "    <tr>\n",
              "      <th>3</th>\n",
              "      <td>2020-02-15-000053</td>\n",
              "      <td>... [ I ] f it gets to the floor,</td>\n",
              "      <td>None</td>\n",
              "      <td>[]</td>\n",
              "      <td>2020-02-15 14:12:51</td>\n",
              "      <td>2</td>\n",
              "      <td>[[None, 0.581], [Andy Harris, 0.4191]]</td>\n",
              "      <td>[https://patriotpost.us/opinion/68622-trump-bu...</td>\n",
              "      <td>E</td>\n",
              "    </tr>\n",
              "    <tr>\n",
              "      <th>4</th>\n",
              "      <td>2020-01-24-000168</td>\n",
              "      <td>[ I met them ] when they just turned 4 and 7. ...</td>\n",
              "      <td>Meghan King Edmonds</td>\n",
              "      <td>[Q20684375]</td>\n",
              "      <td>2020-01-24 20:37:09</td>\n",
              "      <td>4</td>\n",
              "      <td>[[Meghan King Edmonds, 0.5446], [None, 0.2705]...</td>\n",
              "      <td>[https://people.com/parents/meghan-king-edmond...</td>\n",
              "      <td>E</td>\n",
              "    </tr>\n",
              "  </tbody>\n",
              "</table>\n",
              "</div>"
            ],
            "text/plain": [
              "             quoteID  ... phase\n",
              "0  2020-01-28-000082  ...     E\n",
              "1  2020-01-16-000088  ...     E\n",
              "2  2020-02-10-000142  ...     E\n",
              "3  2020-02-15-000053  ...     E\n",
              "4  2020-01-24-000168  ...     E\n",
              "\n",
              "[5 rows x 9 columns]"
            ]
          },
          "metadata": {},
          "execution_count": 6
        }
      ]
    },
    {
      "cell_type": "markdown",
      "metadata": {
        "id": "LqXXTKJkD9jw"
      },
      "source": [
        "we can already see that for our analysis we will need just six columns, so we will import just them in future to lower the computational cost of the import and facilitate it."
      ]
    },
    {
      "cell_type": "code",
      "metadata": {
        "id": "NgAj4qGfMpEV"
      },
      "source": [
        "chunk_test = chunk_test.drop(['date', 'urls', 'phase'], axis = 1)"
      ],
      "execution_count": 7,
      "outputs": []
    },
    {
      "cell_type": "markdown",
      "metadata": {
        "id": "CNe63yf69y46"
      },
      "source": [
        "#### Now we import the speakers' attributes to be able to select those who we are interested in"
      ]
    },
    {
      "cell_type": "code",
      "metadata": {
        "id": "cfginA1p98wh"
      },
      "source": [
        "speaker_attributes = pd.read_parquet('/content/drive/MyDrive/Project datasets/speaker_attributes.parquet')"
      ],
      "execution_count": 8,
      "outputs": []
    },
    {
      "cell_type": "code",
      "metadata": {
        "colab": {
          "base_uri": "https://localhost:8080/",
          "height": 576
        },
        "id": "6Ksi9An0FGT6",
        "outputId": "44c140d8-6582-4e10-f2cf-cdc1582e90a9"
      },
      "source": [
        "speaker_attributes.head()"
      ],
      "execution_count": 9,
      "outputs": [
        {
          "output_type": "execute_result",
          "data": {
            "text/html": [
              "<div>\n",
              "<style scoped>\n",
              "    .dataframe tbody tr th:only-of-type {\n",
              "        vertical-align: middle;\n",
              "    }\n",
              "\n",
              "    .dataframe tbody tr th {\n",
              "        vertical-align: top;\n",
              "    }\n",
              "\n",
              "    .dataframe thead th {\n",
              "        text-align: right;\n",
              "    }\n",
              "</style>\n",
              "<table border=\"1\" class=\"dataframe\">\n",
              "  <thead>\n",
              "    <tr style=\"text-align: right;\">\n",
              "      <th></th>\n",
              "      <th>aliases</th>\n",
              "      <th>date_of_birth</th>\n",
              "      <th>nationality</th>\n",
              "      <th>gender</th>\n",
              "      <th>lastrevid</th>\n",
              "      <th>ethnic_group</th>\n",
              "      <th>US_congress_bio_ID</th>\n",
              "      <th>occupation</th>\n",
              "      <th>party</th>\n",
              "      <th>academic_degree</th>\n",
              "      <th>id</th>\n",
              "      <th>label</th>\n",
              "      <th>candidacy</th>\n",
              "      <th>type</th>\n",
              "      <th>religion</th>\n",
              "    </tr>\n",
              "  </thead>\n",
              "  <tbody>\n",
              "    <tr>\n",
              "      <th>0</th>\n",
              "      <td>[Washington, President Washington, G. Washingt...</td>\n",
              "      <td>[+1732-02-22T00:00:00Z]</td>\n",
              "      <td>[Q161885, Q30]</td>\n",
              "      <td>[Q6581097]</td>\n",
              "      <td>1395141751</td>\n",
              "      <td>None</td>\n",
              "      <td>W000178</td>\n",
              "      <td>[Q82955, Q189290, Q131512, Q1734662, Q294126, ...</td>\n",
              "      <td>[Q327591]</td>\n",
              "      <td>None</td>\n",
              "      <td>Q23</td>\n",
              "      <td>George Washington</td>\n",
              "      <td>[Q698073, Q697949]</td>\n",
              "      <td>item</td>\n",
              "      <td>[Q682443]</td>\n",
              "    </tr>\n",
              "    <tr>\n",
              "      <th>1</th>\n",
              "      <td>[Douglas Noel Adams, Douglas Noël Adams, Dougl...</td>\n",
              "      <td>[+1952-03-11T00:00:00Z]</td>\n",
              "      <td>[Q145]</td>\n",
              "      <td>[Q6581097]</td>\n",
              "      <td>1395737157</td>\n",
              "      <td>[Q7994501]</td>\n",
              "      <td>None</td>\n",
              "      <td>[Q214917, Q28389, Q6625963, Q4853732, Q1884422...</td>\n",
              "      <td>None</td>\n",
              "      <td>None</td>\n",
              "      <td>Q42</td>\n",
              "      <td>Douglas Adams</td>\n",
              "      <td>None</td>\n",
              "      <td>item</td>\n",
              "      <td>None</td>\n",
              "    </tr>\n",
              "    <tr>\n",
              "      <th>2</th>\n",
              "      <td>[Paul Marie Ghislain Otlet, Paul Marie Otlet]</td>\n",
              "      <td>[+1868-08-23T00:00:00Z]</td>\n",
              "      <td>[Q31]</td>\n",
              "      <td>[Q6581097]</td>\n",
              "      <td>1380367296</td>\n",
              "      <td>None</td>\n",
              "      <td>None</td>\n",
              "      <td>[Q36180, Q40348, Q182436, Q1265807, Q205375, Q...</td>\n",
              "      <td>None</td>\n",
              "      <td>None</td>\n",
              "      <td>Q1868</td>\n",
              "      <td>Paul Otlet</td>\n",
              "      <td>None</td>\n",
              "      <td>item</td>\n",
              "      <td>None</td>\n",
              "    </tr>\n",
              "    <tr>\n",
              "      <th>3</th>\n",
              "      <td>[George Walker Bush, Bush Jr., Dubya, GWB, Bus...</td>\n",
              "      <td>[+1946-07-06T00:00:00Z]</td>\n",
              "      <td>[Q30]</td>\n",
              "      <td>[Q6581097]</td>\n",
              "      <td>1395142029</td>\n",
              "      <td>None</td>\n",
              "      <td>None</td>\n",
              "      <td>[Q82955, Q15982858, Q18814623, Q1028181, Q1408...</td>\n",
              "      <td>[Q29468]</td>\n",
              "      <td>None</td>\n",
              "      <td>Q207</td>\n",
              "      <td>George W. Bush</td>\n",
              "      <td>[Q327959, Q464075, Q3586276, Q4450587]</td>\n",
              "      <td>item</td>\n",
              "      <td>[Q329646, Q682443, Q33203]</td>\n",
              "    </tr>\n",
              "    <tr>\n",
              "      <th>4</th>\n",
              "      <td>[Velázquez, Diego Rodríguez de Silva y Velázqu...</td>\n",
              "      <td>[+1599-06-06T00:00:00Z]</td>\n",
              "      <td>[Q29]</td>\n",
              "      <td>[Q6581097]</td>\n",
              "      <td>1391704596</td>\n",
              "      <td>None</td>\n",
              "      <td>None</td>\n",
              "      <td>[Q1028181]</td>\n",
              "      <td>None</td>\n",
              "      <td>None</td>\n",
              "      <td>Q297</td>\n",
              "      <td>Diego Velázquez</td>\n",
              "      <td>None</td>\n",
              "      <td>item</td>\n",
              "      <td>None</td>\n",
              "    </tr>\n",
              "  </tbody>\n",
              "</table>\n",
              "</div>"
            ],
            "text/plain": [
              "                                             aliases  ...                    religion\n",
              "0  [Washington, President Washington, G. Washingt...  ...                   [Q682443]\n",
              "1  [Douglas Noel Adams, Douglas Noël Adams, Dougl...  ...                        None\n",
              "2      [Paul Marie Ghislain Otlet, Paul Marie Otlet]  ...                        None\n",
              "3  [George Walker Bush, Bush Jr., Dubya, GWB, Bus...  ...  [Q329646, Q682443, Q33203]\n",
              "4  [Velázquez, Diego Rodríguez de Silva y Velázqu...  ...                        None\n",
              "\n",
              "[5 rows x 15 columns]"
            ]
          },
          "metadata": {},
          "execution_count": 9
        }
      ]
    },
    {
      "cell_type": "markdown",
      "metadata": {
        "id": "B3JErJ9O0vOv"
      },
      "source": [
        "We can already dro some columns that we will not use for sure."
      ]
    },
    {
      "cell_type": "code",
      "metadata": {
        "id": "ZAnqr4Ac-EYy"
      },
      "source": [
        "speaker_attributes.drop(['lastrevid', 'type', 'religion'], axis = 1, inplace = True)"
      ],
      "execution_count": 10,
      "outputs": []
    },
    {
      "cell_type": "code",
      "metadata": {
        "colab": {
          "base_uri": "https://localhost:8080/"
        },
        "id": "DcRbKjH5FRRb",
        "outputId": "fa3250df-77c6-4326-dc32-06d3e7709522"
      },
      "source": [
        "speaker_attributes.columns"
      ],
      "execution_count": 11,
      "outputs": [
        {
          "output_type": "execute_result",
          "data": {
            "text/plain": [
              "Index(['aliases', 'date_of_birth', 'nationality', 'gender', 'ethnic_group',\n",
              "       'US_congress_bio_ID', 'occupation', 'party', 'academic_degree', 'id',\n",
              "       'label', 'candidacy'],\n",
              "      dtype='object')"
            ]
          },
          "metadata": {},
          "execution_count": 11
        }
      ]
    },
    {
      "cell_type": "markdown",
      "metadata": {
        "id": "bpXxOsllA60m"
      },
      "source": [
        "as you can see all the information in the  `speaker_attributes ` dataframe are econded in terms of QIDs, so we want them in a human-readable fashion, so we import a dataset assigning to each QID a readable label."
      ]
    },
    {
      "cell_type": "code",
      "metadata": {
        "id": "Ax4ruJoXBYt6"
      },
      "source": [
        "readable = pd.read_csv('/content/drive/MyDrive/Project datasets/wikidata_labels_descriptions_quotebank.csv.bz2', compression='bz2', index_col='QID')"
      ],
      "execution_count": 12,
      "outputs": []
    },
    {
      "cell_type": "code",
      "metadata": {
        "colab": {
          "base_uri": "https://localhost:8080/",
          "height": 234
        },
        "id": "HYN4JtCBqWG0",
        "outputId": "7f219df0-76ed-43b6-9959-3f3c2b136a3e"
      },
      "source": [
        "readable.head()"
      ],
      "execution_count": 13,
      "outputs": [
        {
          "output_type": "execute_result",
          "data": {
            "text/html": [
              "<div>\n",
              "<style scoped>\n",
              "    .dataframe tbody tr th:only-of-type {\n",
              "        vertical-align: middle;\n",
              "    }\n",
              "\n",
              "    .dataframe tbody tr th {\n",
              "        vertical-align: top;\n",
              "    }\n",
              "\n",
              "    .dataframe thead th {\n",
              "        text-align: right;\n",
              "    }\n",
              "</style>\n",
              "<table border=\"1\" class=\"dataframe\">\n",
              "  <thead>\n",
              "    <tr style=\"text-align: right;\">\n",
              "      <th></th>\n",
              "      <th>Label</th>\n",
              "      <th>Description</th>\n",
              "    </tr>\n",
              "    <tr>\n",
              "      <th>QID</th>\n",
              "      <th></th>\n",
              "      <th></th>\n",
              "    </tr>\n",
              "  </thead>\n",
              "  <tbody>\n",
              "    <tr>\n",
              "      <th>Q31</th>\n",
              "      <td>Belgium</td>\n",
              "      <td>country in western Europe</td>\n",
              "    </tr>\n",
              "    <tr>\n",
              "      <th>Q45</th>\n",
              "      <td>Portugal</td>\n",
              "      <td>country in southwestern Europe</td>\n",
              "    </tr>\n",
              "    <tr>\n",
              "      <th>Q75</th>\n",
              "      <td>Internet</td>\n",
              "      <td>global system of connected computer networks</td>\n",
              "    </tr>\n",
              "    <tr>\n",
              "      <th>Q148</th>\n",
              "      <td>People's Republic of China</td>\n",
              "      <td>sovereign state in East Asia</td>\n",
              "    </tr>\n",
              "    <tr>\n",
              "      <th>Q155</th>\n",
              "      <td>Brazil</td>\n",
              "      <td>country in South America</td>\n",
              "    </tr>\n",
              "  </tbody>\n",
              "</table>\n",
              "</div>"
            ],
            "text/plain": [
              "                           Label                                   Description\n",
              "QID                                                                           \n",
              "Q31                      Belgium                     country in western Europe\n",
              "Q45                     Portugal                country in southwestern Europe\n",
              "Q75                     Internet  global system of connected computer networks\n",
              "Q148  People's Republic of China                  sovereign state in East Asia\n",
              "Q155                      Brazil                      country in South America"
            ]
          },
          "metadata": {},
          "execution_count": 13
        }
      ]
    },
    {
      "cell_type": "code",
      "metadata": {
        "colab": {
          "base_uri": "https://localhost:8080/",
          "height": 35
        },
        "id": "3KOc8YI6BkED",
        "outputId": "342b270a-4e73-44c9-c756-4dae0d905306"
      },
      "source": [
        "readable.loc['Q682443']['Label']"
      ],
      "execution_count": 14,
      "outputs": [
        {
          "output_type": "execute_result",
          "data": {
            "application/vnd.google.colaboratory.intrinsic+json": {
              "type": "string"
            },
            "text/plain": [
              "'Episcopal Church'"
            ]
          },
          "metadata": {},
          "execution_count": 14
        }
      ]
    },
    {
      "cell_type": "markdown",
      "metadata": {
        "id": "VclV0mlgYi3j"
      },
      "source": [
        "We want to first of all filter for politicians, so we select Hillary Clinton, for example, to assess which is the QIDs for politicians."
      ]
    },
    {
      "cell_type": "markdown",
      "metadata": {
        "id": "keeQKtxLluMU"
      },
      "source": [
        "First we get her QID."
      ]
    },
    {
      "cell_type": "code",
      "metadata": {
        "colab": {
          "base_uri": "https://localhost:8080/"
        },
        "id": "C7_pYPJrlE1x",
        "outputId": "9d9f4f41-16fc-4c81-b008-45dde1eb612d"
      },
      "source": [
        "chunk_test.loc[chunk_test['speaker'] == 'Hillary Clinton'].qids.iloc[1]"
      ],
      "execution_count": 15,
      "outputs": [
        {
          "output_type": "execute_result",
          "data": {
            "text/plain": [
              "['Q6294']"
            ]
          },
          "metadata": {},
          "execution_count": 15
        }
      ]
    },
    {
      "cell_type": "markdown",
      "metadata": {
        "id": "b2XTzOullxVV"
      },
      "source": [
        "Then we used the obtained QID to see among her attributes the column `occupation`."
      ]
    },
    {
      "cell_type": "code",
      "metadata": {
        "colab": {
          "base_uri": "https://localhost:8080/"
        },
        "id": "_YW27OPNlq5c",
        "outputId": "b5cd98dc-0df2-46ed-af53-58762c6b5889"
      },
      "source": [
        "speaker_attributes.loc[speaker_attributes['id'] == 'Q6294'].occupation"
      ],
      "execution_count": 16,
      "outputs": [
        {
          "output_type": "execute_result",
          "data": {
            "text/plain": [
              "1135081    [Q82955, Q40348, Q193391, Q36180, Q18814623, Q...\n",
              "Name: occupation, dtype: object"
            ]
          },
          "metadata": {},
          "execution_count": 16
        }
      ]
    },
    {
      "cell_type": "markdown",
      "metadata": {
        "id": "BnM80Y7jmVus"
      },
      "source": [
        "We see that the first QID in the occupation corresponds to \"politician\" which is what we are interest into."
      ]
    },
    {
      "cell_type": "code",
      "metadata": {
        "colab": {
          "base_uri": "https://localhost:8080/",
          "height": 35
        },
        "id": "mBF2PHlNmVSr",
        "outputId": "f0f714f5-e570-4deb-8d16-91c6ab4775f5"
      },
      "source": [
        "readable.loc['Q82955']['Label']"
      ],
      "execution_count": 17,
      "outputs": [
        {
          "output_type": "execute_result",
          "data": {
            "application/vnd.google.colaboratory.intrinsic+json": {
              "type": "string"
            },
            "text/plain": [
              "'politician'"
            ]
          },
          "metadata": {},
          "execution_count": 17
        }
      ]
    },
    {
      "cell_type": "markdown",
      "metadata": {
        "id": "jMfjeOXVt-8F"
      },
      "source": [
        "Here we create a mask indicating the rows corresponding to politicians"
      ]
    },
    {
      "cell_type": "code",
      "metadata": {
        "id": "YTL7r54esKe8"
      },
      "source": [
        "# We create a mask dropping the rows with Nan in occupation, as we won't use\n",
        "# them anyways as we want to keep just rows corresponding to politicians\n",
        "mask_politicians = speaker_attributes.occupation.dropna().apply(lambda x: 'Q82955' in x)"
      ],
      "execution_count": 18,
      "outputs": []
    },
    {
      "cell_type": "markdown",
      "metadata": {
        "id": "CXjiLi2twaf-"
      },
      "source": [
        "Now we can get the QIDs corresponding to politicians"
      ]
    },
    {
      "cell_type": "code",
      "metadata": {
        "id": "0xAhl4F8uJGH"
      },
      "source": [
        "# We drop from the id column the rows containing nans in the occupation column, \n",
        "# so that we can apply the mask_ploiticians mask to the id column\n",
        "qids_politicians = speaker_attributes['id'][~speaker_attributes['occupation'].isna()][mask_politicians]"
      ],
      "execution_count": 19,
      "outputs": []
    },
    {
      "cell_type": "code",
      "metadata": {
        "colab": {
          "base_uri": "https://localhost:8080/"
        },
        "id": "ShZwj8PNyfdC",
        "outputId": "f508677a-f9b2-4653-e567-41724abebb35"
      },
      "source": [
        "qids_politicians"
      ],
      "execution_count": 20,
      "outputs": [
        {
          "output_type": "execute_result",
          "data": {
            "text/plain": [
              "0                 Q23\n",
              "3                Q207\n",
              "5                Q368\n",
              "11               Q815\n",
              "15               Q946\n",
              "              ...    \n",
              "9055974    Q106406546\n",
              "9055975    Q106406557\n",
              "9055976    Q106406560\n",
              "9055977    Q106406571\n",
              "9055980    Q106406643\n",
              "Name: id, Length: 657166, dtype: object"
            ]
          },
          "metadata": {},
          "execution_count": 20
        }
      ]
    },
    {
      "cell_type": "markdown",
      "metadata": {
        "id": "F1kdSzIWwfzq"
      },
      "source": [
        "Furthermore, we want to focus on US politicias so in the same way as before we retrieve the QIDs associated to American nationality."
      ]
    },
    {
      "cell_type": "markdown",
      "metadata": {
        "id": "x_SgK-A4w1cl"
      },
      "source": [
        "Again we need to find the QID corresponding to \"American\" and we use Hillary Clinton as an example."
      ]
    },
    {
      "cell_type": "code",
      "metadata": {
        "colab": {
          "base_uri": "https://localhost:8080/"
        },
        "id": "G9Z1SdVUwyoq",
        "outputId": "c59b3d38-b8bc-4c49-c3f4-3761ba7a4a76"
      },
      "source": [
        "speaker_attributes.loc[speaker_attributes['id'] == 'Q6294'].nationality"
      ],
      "execution_count": 21,
      "outputs": [
        {
          "output_type": "execute_result",
          "data": {
            "text/plain": [
              "1135081    [Q30]\n",
              "Name: nationality, dtype: object"
            ]
          },
          "metadata": {},
          "execution_count": 21
        }
      ]
    },
    {
      "cell_type": "code",
      "metadata": {
        "colab": {
          "base_uri": "https://localhost:8080/",
          "height": 35
        },
        "id": "fDW4SxjfxVa7",
        "outputId": "a13a10c4-d61f-4d8c-e18c-09bc125b6afd"
      },
      "source": [
        "readable.loc['Q30']['Label']"
      ],
      "execution_count": 22,
      "outputs": [
        {
          "output_type": "execute_result",
          "data": {
            "application/vnd.google.colaboratory.intrinsic+json": {
              "type": "string"
            },
            "text/plain": [
              "'United States of America'"
            ]
          },
          "metadata": {},
          "execution_count": 22
        }
      ]
    },
    {
      "cell_type": "code",
      "metadata": {
        "id": "8fxezKwFxerx"
      },
      "source": [
        "mask_nationality = speaker_attributes.nationality.dropna().apply(lambda x: 'Q30' in x)\n",
        "qids_americans = speaker_attributes['id'][~speaker_attributes['nationality'].isna()][mask_nationality]"
      ],
      "execution_count": 23,
      "outputs": []
    },
    {
      "cell_type": "markdown",
      "metadata": {
        "id": "_D7ZmqPoEHnq"
      },
      "source": [
        "Before removing the rows corresponding to non-American non-politicinas we noticies some oddities in the data: in particular we notice that some quotations have multiple QIDs in the `qids` column. For example it happens with Donald Trump."
      ]
    },
    {
      "cell_type": "code",
      "metadata": {
        "colab": {
          "base_uri": "https://localhost:8080/",
          "height": 287
        },
        "id": "4gMjByPvEiER",
        "outputId": "7f9626fe-e849-4ac5-99b7-ea8b6208a301"
      },
      "source": [
        "chunk_test.loc[chunk_test['speaker'] == 'Donald Trump'].head()"
      ],
      "execution_count": 24,
      "outputs": [
        {
          "output_type": "execute_result",
          "data": {
            "text/html": [
              "<div>\n",
              "<style scoped>\n",
              "    .dataframe tbody tr th:only-of-type {\n",
              "        vertical-align: middle;\n",
              "    }\n",
              "\n",
              "    .dataframe tbody tr th {\n",
              "        vertical-align: top;\n",
              "    }\n",
              "\n",
              "    .dataframe thead th {\n",
              "        text-align: right;\n",
              "    }\n",
              "</style>\n",
              "<table border=\"1\" class=\"dataframe\">\n",
              "  <thead>\n",
              "    <tr style=\"text-align: right;\">\n",
              "      <th></th>\n",
              "      <th>quoteID</th>\n",
              "      <th>quotation</th>\n",
              "      <th>speaker</th>\n",
              "      <th>qids</th>\n",
              "      <th>numOccurrences</th>\n",
              "      <th>probas</th>\n",
              "    </tr>\n",
              "  </thead>\n",
              "  <tbody>\n",
              "    <tr>\n",
              "      <th>247</th>\n",
              "      <td>2020-02-19-010736</td>\n",
              "      <td>But I happen to like Prime Minister (Narendra)...</td>\n",
              "      <td>Donald Trump</td>\n",
              "      <td>[Q22686, Q27947481]</td>\n",
              "      <td>8</td>\n",
              "      <td>[[Donald Trump, 0.4138], [President Donald Tru...</td>\n",
              "    </tr>\n",
              "    <tr>\n",
              "      <th>3172</th>\n",
              "      <td>2020-01-14-026600</td>\n",
              "      <td>I didn't know that, no.. I hope she's okay,</td>\n",
              "      <td>Donald Trump</td>\n",
              "      <td>[Q22686, Q27947481]</td>\n",
              "      <td>1</td>\n",
              "      <td>[[Donald Trump, 0.5667], [None, 0.335], [Megha...</td>\n",
              "    </tr>\n",
              "    <tr>\n",
              "      <th>6575</th>\n",
              "      <td>2020-02-13-078518</td>\n",
              "      <td>So a leftist attacks 3 Trump supporters, inclu...</td>\n",
              "      <td>Donald Trump</td>\n",
              "      <td>[Q22686, Q27947481]</td>\n",
              "      <td>3</td>\n",
              "      <td>[[Donald Trump, 0.6995], [None, 0.2793], [Kimb...</td>\n",
              "    </tr>\n",
              "    <tr>\n",
              "      <th>6740</th>\n",
              "      <td>2020-03-03-052722</td>\n",
              "      <td>The Democrat establishment is trying to take i...</td>\n",
              "      <td>Donald Trump</td>\n",
              "      <td>[Q22686, Q27947481]</td>\n",
              "      <td>3</td>\n",
              "      <td>[[Donald Trump, 0.5689], [President Trump, 0.3...</td>\n",
              "    </tr>\n",
              "    <tr>\n",
              "      <th>8063</th>\n",
              "      <td>2020-01-08-021732</td>\n",
              "      <td>He killed thousands of US troops. He directed ...</td>\n",
              "      <td>Donald Trump</td>\n",
              "      <td>[Q22686, Q27947481]</td>\n",
              "      <td>1</td>\n",
              "      <td>[[Donald Trump, 0.9092], [None, 0.0908]]</td>\n",
              "    </tr>\n",
              "  </tbody>\n",
              "</table>\n",
              "</div>"
            ],
            "text/plain": [
              "                quoteID  ...                                             probas\n",
              "247   2020-02-19-010736  ...  [[Donald Trump, 0.4138], [President Donald Tru...\n",
              "3172  2020-01-14-026600  ...  [[Donald Trump, 0.5667], [None, 0.335], [Megha...\n",
              "6575  2020-02-13-078518  ...  [[Donald Trump, 0.6995], [None, 0.2793], [Kimb...\n",
              "6740  2020-03-03-052722  ...  [[Donald Trump, 0.5689], [President Trump, 0.3...\n",
              "8063  2020-01-08-021732  ...           [[Donald Trump, 0.9092], [None, 0.0908]]\n",
              "\n",
              "[5 rows x 6 columns]"
            ]
          },
          "metadata": {},
          "execution_count": 24
        }
      ]
    },
    {
      "cell_type": "markdown",
      "metadata": {
        "id": "YIPg-fIRE6ox"
      },
      "source": [
        "To find the cause of the issue we can look at `speaker_attributes` dataset:"
      ]
    },
    {
      "cell_type": "code",
      "metadata": {
        "colab": {
          "base_uri": "https://localhost:8080/",
          "height": 366
        },
        "id": "RKnxuC3lE4rF",
        "outputId": "0b7d701d-bfdb-44d7-d23c-ae07d86ee427"
      },
      "source": [
        "speaker_attributes.loc[speaker_attributes['label'] == 'Donald Trump']"
      ],
      "execution_count": 25,
      "outputs": [
        {
          "output_type": "execute_result",
          "data": {
            "text/html": [
              "<div>\n",
              "<style scoped>\n",
              "    .dataframe tbody tr th:only-of-type {\n",
              "        vertical-align: middle;\n",
              "    }\n",
              "\n",
              "    .dataframe tbody tr th {\n",
              "        vertical-align: top;\n",
              "    }\n",
              "\n",
              "    .dataframe thead th {\n",
              "        text-align: right;\n",
              "    }\n",
              "</style>\n",
              "<table border=\"1\" class=\"dataframe\">\n",
              "  <thead>\n",
              "    <tr style=\"text-align: right;\">\n",
              "      <th></th>\n",
              "      <th>aliases</th>\n",
              "      <th>date_of_birth</th>\n",
              "      <th>nationality</th>\n",
              "      <th>gender</th>\n",
              "      <th>ethnic_group</th>\n",
              "      <th>US_congress_bio_ID</th>\n",
              "      <th>occupation</th>\n",
              "      <th>party</th>\n",
              "      <th>academic_degree</th>\n",
              "      <th>id</th>\n",
              "      <th>label</th>\n",
              "      <th>candidacy</th>\n",
              "    </tr>\n",
              "  </thead>\n",
              "  <tbody>\n",
              "    <tr>\n",
              "      <th>2267061</th>\n",
              "      <td>[Donald John Trump, Donald J. Trump, Trump, Th...</td>\n",
              "      <td>[+1946-06-14T00:00:00Z]</td>\n",
              "      <td>[Q30]</td>\n",
              "      <td>[Q6581097]</td>\n",
              "      <td>None</td>\n",
              "      <td>None</td>\n",
              "      <td>[Q911554, Q557880, Q3427922, Q15980158, Q13152...</td>\n",
              "      <td>[Q29468, Q1897793, Q29552, Q29468, Q29468]</td>\n",
              "      <td>[Q787674]</td>\n",
              "      <td>Q22686</td>\n",
              "      <td>Donald Trump</td>\n",
              "      <td>[Q699872, Q22923830, Q38051523]</td>\n",
              "    </tr>\n",
              "    <tr>\n",
              "      <th>8337605</th>\n",
              "      <td>[Donald L. Trump, Donald Lynn Trump, Skip Trum...</td>\n",
              "      <td>[+1945-07-31T00:00:00Z, +1945-00-00T00:00:00Z]</td>\n",
              "      <td>[Q30]</td>\n",
              "      <td>[Q6581097]</td>\n",
              "      <td>None</td>\n",
              "      <td>None</td>\n",
              "      <td>[Q39631, Q16062369]</td>\n",
              "      <td>None</td>\n",
              "      <td>[Q913404]</td>\n",
              "      <td>Q27947481</td>\n",
              "      <td>Donald Trump</td>\n",
              "      <td>None</td>\n",
              "    </tr>\n",
              "  </tbody>\n",
              "</table>\n",
              "</div>"
            ],
            "text/plain": [
              "                                                   aliases  ...                        candidacy\n",
              "2267061  [Donald John Trump, Donald J. Trump, Trump, Th...  ...  [Q699872, Q22923830, Q38051523]\n",
              "8337605  [Donald L. Trump, Donald Lynn Trump, Skip Trum...  ...                             None\n",
              "\n",
              "[2 rows x 12 columns]"
            ]
          },
          "metadata": {},
          "execution_count": 25
        }
      ]
    },
    {
      "cell_type": "markdown",
      "metadata": {
        "id": "GNJ-nohVFOkC"
      },
      "source": [
        "We can see that there is an issue in the way the `qids` column in the main dataset has been built, indeed to each quotation are assigned all the QIDs of the homonyms.\n",
        "Since there is no way to fix this issue we decided to include in our filtered dataset only the quotations with a maximum of three assigned QIDs, provided that one of them corresponds to a politician. In this way we avoid to include many quotations from non politicians who just happen to be homonym of a politician but still without losing the quotations when the politician has just few homonyms."
      ]
    },
    {
      "cell_type": "markdown",
      "metadata": {
        "id": "7SMfwy61ISBO"
      },
      "source": [
        "We identify and remove the quotations with maximum three QIDs:"
      ]
    },
    {
      "cell_type": "code",
      "metadata": {
        "id": "T1PRsi0MIURs"
      },
      "source": [
        "drop_quotes = chunk_test['qids'].apply(lambda x: len(x) < 4)"
      ],
      "execution_count": 26,
      "outputs": []
    },
    {
      "cell_type": "code",
      "metadata": {
        "id": "tH97SSPDIlp8"
      },
      "source": [
        "chunk_test_drop = chunk_test[drop_quotes]"
      ],
      "execution_count": 27,
      "outputs": []
    },
    {
      "cell_type": "markdown",
      "metadata": {
        "id": "BQG3zfeP2biX"
      },
      "source": [
        "We start by creating another mask, this time to be applied to the main dataframe (`chunk_test_drop`). This mask will consist of a combination of other two masks: one indicating rows with quotations by politicians and one with indicating quotations by Americans."
      ]
    },
    {
      "cell_type": "code",
      "metadata": {
        "id": "cTMBl4Jn3mbk"
      },
      "source": [
        "pos_0 = chunk_test_drop['qids'].str[0].isin(qids_politicians) # We create three masks. Each mask filters for the quotations\n",
        "pos_1 = chunk_test_drop['qids'].str[1].isin(qids_politicians) # in which the 0th, 1st, 2nd (if multiple) QID respectively, corresponds to\n",
        "pos_2 = chunk_test_drop['qids'].str[2].isin(qids_politicians) # the QID of a politician"
      ],
      "execution_count": 28,
      "outputs": []
    },
    {
      "cell_type": "code",
      "metadata": {
        "colab": {
          "base_uri": "https://localhost:8080/"
        },
        "id": "kPlf44vQNSyu",
        "outputId": "037e6da4-8f3a-4513-8a10-51820aa50029"
      },
      "source": [
        "# We repeat the same procedre as before creating three masks\n",
        "pos_0_us = chunk_test_drop['qids'].str[0].isin(qids_americans)\n",
        "pos_1_us = chunk_test_drop['qids'].str[1].isin(qids_americans)\n",
        "pos_2_us = chunk_test_drop['qids'].str[2].isin(qids_americans)\n",
        "# Now we can combine the masks point-wise to assess if the QIDs correspond\n",
        "# to \"politician\" and \"American\" at the same time\n",
        "american_politicians = pos_0_us*pos_0 + pos_1_us*pos_1 + pos_2_us*pos_2"
      ],
      "execution_count": 29,
      "outputs": [
        {
          "output_type": "stream",
          "name": "stderr",
          "text": [
            "/usr/local/lib/python3.7/dist-packages/pandas/core/computation/expressions.py:178: UserWarning: evaluating in Python space because the '*' operator is not supported by numexpr for the bool dtype, use '&' instead\n",
            "  f\"evaluating in Python space because the {repr(op_str)} \"\n",
            "/usr/local/lib/python3.7/dist-packages/pandas/core/computation/expressions.py:178: UserWarning: evaluating in Python space because the '+' operator is not supported by numexpr for the bool dtype, use '|' instead\n",
            "  f\"evaluating in Python space because the {repr(op_str)} \"\n"
          ]
        }
      ]
    },
    {
      "cell_type": "markdown",
      "metadata": {
        "id": "jxA_c2SDWbpA"
      },
      "source": [
        "Finally we apply the mask to the dataset."
      ]
    },
    {
      "cell_type": "code",
      "metadata": {
        "id": "dfHeafRrLe8U"
      },
      "source": [
        "df = chunk_test_drop[american_politicians]"
      ],
      "execution_count": 30,
      "outputs": []
    },
    {
      "cell_type": "code",
      "metadata": {
        "colab": {
          "base_uri": "https://localhost:8080/",
          "height": 287
        },
        "id": "qbtiwM8aWjJ7",
        "outputId": "7dca5759-991d-47b7-a48e-14083f532a71"
      },
      "source": [
        "df.head()"
      ],
      "execution_count": 31,
      "outputs": [
        {
          "output_type": "execute_result",
          "data": {
            "text/html": [
              "<div>\n",
              "<style scoped>\n",
              "    .dataframe tbody tr th:only-of-type {\n",
              "        vertical-align: middle;\n",
              "    }\n",
              "\n",
              "    .dataframe tbody tr th {\n",
              "        vertical-align: top;\n",
              "    }\n",
              "\n",
              "    .dataframe thead th {\n",
              "        text-align: right;\n",
              "    }\n",
              "</style>\n",
              "<table border=\"1\" class=\"dataframe\">\n",
              "  <thead>\n",
              "    <tr style=\"text-align: right;\">\n",
              "      <th></th>\n",
              "      <th>quoteID</th>\n",
              "      <th>quotation</th>\n",
              "      <th>speaker</th>\n",
              "      <th>qids</th>\n",
              "      <th>numOccurrences</th>\n",
              "      <th>probas</th>\n",
              "    </tr>\n",
              "  </thead>\n",
              "  <tbody>\n",
              "    <tr>\n",
              "      <th>1</th>\n",
              "      <td>2020-01-16-000088</td>\n",
              "      <td>[ Department of Homeland Security ] was livid ...</td>\n",
              "      <td>Sue Myrick</td>\n",
              "      <td>[Q367796]</td>\n",
              "      <td>1</td>\n",
              "      <td>[[Sue Myrick, 0.8867], [None, 0.0992], [Ron Wy...</td>\n",
              "    </tr>\n",
              "    <tr>\n",
              "      <th>9</th>\n",
              "      <td>2020-03-19-000276</td>\n",
              "      <td>[ These ] actions will allow households who ha...</td>\n",
              "      <td>Ben Carson</td>\n",
              "      <td>[Q816459]</td>\n",
              "      <td>1</td>\n",
              "      <td>[[Ben Carson, 0.9227], [None, 0.0773]]</td>\n",
              "    </tr>\n",
              "    <tr>\n",
              "      <th>29</th>\n",
              "      <td>2020-01-26-000499</td>\n",
              "      <td>a few of the candidates who will do better in ...</td>\n",
              "      <td>Dave Loebsack</td>\n",
              "      <td>[Q771586]</td>\n",
              "      <td>11</td>\n",
              "      <td>[[Dave Loebsack, 0.9011], [None, 0.0949], [Joe...</td>\n",
              "    </tr>\n",
              "    <tr>\n",
              "      <th>33</th>\n",
              "      <td>2020-01-20-000982</td>\n",
              "      <td>a host of other protections</td>\n",
              "      <td>Debbie Lesko</td>\n",
              "      <td>[Q16731415]</td>\n",
              "      <td>1</td>\n",
              "      <td>[[Debbie Lesko, 0.4784], [None, 0.4105], [Ed M...</td>\n",
              "    </tr>\n",
              "    <tr>\n",
              "      <th>37</th>\n",
              "      <td>2020-01-03-001237</td>\n",
              "      <td>A lot of Americans [ were ] upset that this wa...</td>\n",
              "      <td>Julián Castro</td>\n",
              "      <td>[Q970720]</td>\n",
              "      <td>1</td>\n",
              "      <td>[[Julián Castro, 0.4781], [None, 0.4384], [Dav...</td>\n",
              "    </tr>\n",
              "  </tbody>\n",
              "</table>\n",
              "</div>"
            ],
            "text/plain": [
              "              quoteID  ...                                             probas\n",
              "1   2020-01-16-000088  ...  [[Sue Myrick, 0.8867], [None, 0.0992], [Ron Wy...\n",
              "9   2020-03-19-000276  ...             [[Ben Carson, 0.9227], [None, 0.0773]]\n",
              "29  2020-01-26-000499  ...  [[Dave Loebsack, 0.9011], [None, 0.0949], [Joe...\n",
              "33  2020-01-20-000982  ...  [[Debbie Lesko, 0.4784], [None, 0.4105], [Ed M...\n",
              "37  2020-01-03-001237  ...  [[Julián Castro, 0.4781], [None, 0.4384], [Dav...\n",
              "\n",
              "[5 rows x 6 columns]"
            ]
          },
          "metadata": {},
          "execution_count": 31
        }
      ]
    },
    {
      "cell_type": "markdown",
      "metadata": {
        "id": "HWsaxaLnLbUY"
      },
      "source": [
        "Now that the data are cleaned, we saved the cleaning pipeline in another file .py to be run while importing the data. The reduced size of the cleaned dataset should allow us to be able to work with it in a more convenient way."
      ]
    },
    {
      "cell_type": "markdown",
      "metadata": {
        "id": "dHQI5ThpK5Qc"
      },
      "source": [
        "Now we want to run some analysis on this dataset, for example what kind of genders are present in the quotes. \n",
        "To do so we take the gender column (where we consider only the first QID), we merge it with the redable dataset and we draw a bar chart to which we apply a log scale."
      ]
    },
    {
      "cell_type": "markdown",
      "metadata": {
        "id": "c5t19SDCLBRu"
      },
      "source": [
        "We wish to link each quote with some speaker info. To do this we need a QID associated to the quote and we use it to read the right speaker info in the speaker_attributes_dataset. However, each quote can have more than one QID. \n",
        "For this reason we need to once again use some masks to understand which is the QID corresponding to the American politician whose infomration we need to retrieve."
      ]
    },
    {
      "cell_type": "code",
      "metadata": {
        "id": "nNwpXD4vLFy2"
      },
      "source": [
        "pos_0_df = df['qids'].str[0].isin(qids_politicians)\n",
        "pos_1_df = df['qids'].str[1].isin(qids_politicians) \n",
        "pos_2_df = df['qids'].str[2].isin(qids_politicians)"
      ],
      "execution_count": 32,
      "outputs": []
    },
    {
      "cell_type": "code",
      "metadata": {
        "colab": {
          "base_uri": "https://localhost:8080/"
        },
        "id": "icWai2anLMBT",
        "outputId": "1e9f1343-eb38-4b4c-bcbd-ebcdf8b45846"
      },
      "source": [
        "len(df[pos_0_df]) + len(df[pos_1_df]) +len(df[pos_2_df])"
      ],
      "execution_count": 33,
      "outputs": [
        {
          "output_type": "execute_result",
          "data": {
            "text/plain": [
              "81986"
            ]
          },
          "metadata": {},
          "execution_count": 33
        }
      ]
    },
    {
      "cell_type": "markdown",
      "metadata": {
        "id": "Myep6XQnLZRW"
      },
      "source": [
        "The mask is longer than the datasets because there are overlaps."
      ]
    },
    {
      "cell_type": "markdown",
      "metadata": {
        "id": "BO8cMFF_LwmO"
      },
      "source": [
        "since for the vast majority of cases, politicans are in the 0-th index, when there are overlaps we just consider 0."
      ]
    },
    {
      "cell_type": "code",
      "metadata": {
        "id": "JvyhBLFJLoAA"
      },
      "source": [
        "pos_1_df[(pos_0_df == True) & (pos_1_df == True)] = False \n",
        "pos_2_df[(pos_0_df == True) & (pos_2_df == True)] = False"
      ],
      "execution_count": 34,
      "outputs": []
    },
    {
      "cell_type": "markdown",
      "metadata": {
        "id": "WcXx9-rxLVKW"
      },
      "source": [
        "When the overlap is between the second and third QID, we decided to drop the third."
      ]
    },
    {
      "cell_type": "code",
      "metadata": {
        "id": "L_MYAF40MGHT"
      },
      "source": [
        "pos_2_df[(pos_1_df == True) & (pos_2_df == True)] = False"
      ],
      "execution_count": 35,
      "outputs": []
    },
    {
      "cell_type": "markdown",
      "metadata": {
        "id": "3VR-D2a6MSPx"
      },
      "source": [
        "Now we check that we have no more overlaps."
      ]
    },
    {
      "cell_type": "code",
      "metadata": {
        "colab": {
          "base_uri": "https://localhost:8080/"
        },
        "id": "1lCZFOsIMN8G",
        "outputId": "483cf83c-cb9b-4baf-8950-bea15077fdc2"
      },
      "source": [
        "len(df[pos_0_df]) + len(df[pos_1_df]) + len(df[pos_2_df]) == len(df)"
      ],
      "execution_count": 36,
      "outputs": [
        {
          "output_type": "execute_result",
          "data": {
            "text/plain": [
              "True"
            ]
          },
          "metadata": {},
          "execution_count": 36
        }
      ]
    },
    {
      "cell_type": "markdown",
      "metadata": {
        "id": "ZD7WVCZsMb2j"
      },
      "source": [
        "Now that we have the right masks, we divide the dataset into three subdatasets and for each we use the right QID to retrieve the speaker's attributes."
      ]
    },
    {
      "cell_type": "code",
      "metadata": {
        "id": "sFj9nL-lMaaa"
      },
      "source": [
        "df_speakerinfo_0 = pd.merge(df[pos_0_df].qids.str[0].to_frame(), speaker_attributes, left_on = \"qids\", right_on = \"id\")\n",
        "df_speakerinfo_1 = pd.merge(df[pos_1_df].qids.str[1].to_frame(), speaker_attributes, left_on = \"qids\", right_on = \"id\")\n",
        "df_speakerinfo_2 = pd.merge(df[pos_2_df].qids.str[2].to_frame(), speaker_attributes, left_on = \"qids\", right_on = \"id\")"
      ],
      "execution_count": 37,
      "outputs": []
    },
    {
      "cell_type": "markdown",
      "metadata": {
        "id": "Ozfmfn3lMvtE"
      },
      "source": [
        "We re-concatenate the datasets into one."
      ]
    },
    {
      "cell_type": "code",
      "metadata": {
        "id": "jvuuVfMKMu00"
      },
      "source": [
        "df_speakerinfo = pd.concat([df_speakerinfo_0, df_speakerinfo_1, df_speakerinfo_2])"
      ],
      "execution_count": 38,
      "outputs": []
    },
    {
      "cell_type": "markdown",
      "metadata": {
        "id": "zlgEaqIDNOrV"
      },
      "source": [
        "Now we want to run some exploratory analysis on this dataset, for example what kind of genders are present in the quotes. \n",
        "To do so we take the gender column, we merge it with the redable dataset and we draw a bar chart to which we apply a log scale for a better visualisation."
      ]
    },
    {
      "cell_type": "code",
      "metadata": {
        "colab": {
          "base_uri": "https://localhost:8080/",
          "height": 283
        },
        "id": "NIcaTkiMNaps",
        "outputId": "9a607c33-0664-437a-c2ab-d11a8d12d235"
      },
      "source": [
        "pd.merge(df_speakerinfo.gender.str[0].to_frame(), readable, right_on = \"QID\", left_on = \"gender\").Label.value_counts().plot.barh()\n",
        "plt.xscale(\"log\")\n",
        "plt.xlabel(\"Number of quotes\")\n",
        "plt.show()"
      ],
      "execution_count": 39,
      "outputs": [
        {
          "output_type": "display_data",
          "data": {
            "image/png": "[encoded data removed]",
            "text/plain": [
              "<Figure size 432x288 with 1 Axes>"
            ]
          },
          "metadata": {
            "needs_background": "light"
          }
        }
      ]
    },
    {
      "cell_type": "markdown",
      "metadata": {
        "id": "054-tiMkOLgo"
      },
      "source": [
        "We want to get an idea about the frequency of quotations divided by the political party of its speaker. To get just a rough idea of this distribution we plot it considering just the first party in the party list of each politician, even if we are aware that this not always corresponds to the last party they were into."
      ]
    },
    {
      "cell_type": "code",
      "metadata": {
        "colab": {
          "base_uri": "https://localhost:8080/",
          "height": 279
        },
        "id": "lSGi7OqQPUpB",
        "outputId": "3e802590-ebe1-4141-de53-11a4f64f50c1"
      },
      "source": [
        "pd.merge(df_speakerinfo.party.str[0].to_frame(), readable, right_on = \"QID\", left_on = \"party\").Label.value_counts()[:6].plot.barh()\n",
        "plt.xlabel(\"Number of quotes\")\n",
        "plt.show()"
      ],
      "execution_count": 40,
      "outputs": [
        {
          "output_type": "display_data",
          "data": {
            "image/png": "[encoded data removed]",
            "text/plain": [
              "<Figure size 432x288 with 1 Axes>"
            ]
          },
          "metadata": {
            "needs_background": "light"
          }
        }
      ]
    },
    {
      "cell_type": "markdown",
      "metadata": {
        "id": "FFPdqCwIPiwN"
      },
      "source": [
        "We can also choose some of the most popular politicans from both major parties and we take a look at how many quotes they have in the dataset since we will be interested also in the comparison beteen just two (or few) opposite politicians."
      ]
    },
    {
      "cell_type": "code",
      "metadata": {
        "colab": {
          "base_uri": "https://localhost:8080/",
          "height": 279
        },
        "id": "G0N-HXwcPtu3",
        "outputId": "4690bddb-ba26-402f-ecc1-1da3d5f16222"
      },
      "source": [
        "politicians = [\"Donald Trump\", \"Mitch McConnell\", \"Lindsey Graham\", \"Hillary Clinton\", \"Nancy Pelosi\", \"Chuck Schumer\"]\n",
        "n_quotes = []\n",
        "for politician in politicians:\n",
        "  n_quotes.append(len(df.loc[df.speaker == politician]))\n",
        "plt.barh(politicians, n_quotes)\n",
        "plt.xlabel(\"Number of quotes\")\n",
        "plt.show()"
      ],
      "execution_count": 41,
      "outputs": [
        {
          "output_type": "display_data",
          "data": {
            "image/png": "[encoded data removed]",
            "text/plain": [
              "<Figure size 432x288 with 1 Axes>"
            ]
          },
          "metadata": {
            "needs_background": "light"
          }
        }
      ]
    },
    {
      "cell_type": "markdown",
      "metadata": {
        "id": "-anRwewrPjh_"
      },
      "source": [
        "Now we can start trying to use the NLTK library to tokenize the quotations and proceed with the analysis."
      ]
    },
    {
      "cell_type": "markdown",
      "metadata": {
        "id": "l6aI75Z3c847"
      },
      "source": [
        "We firstly want to stem the all the words, in order to avoid double counting of words such as \"graduation\", \"graduate\" and \"graduated\". Then we also want to remove all the stopwords, for example \"and\", \"a\", \"or\"."
      ]
    },
    {
      "cell_type": "code",
      "metadata": {
        "colab": {
          "base_uri": "https://localhost:8080/"
        },
        "id": "2k5wNPl0Pqx5",
        "outputId": "d2615e0f-6869-4540-fd00-c92e8d5d72f6"
      },
      "source": [
        "from nltk.stem import PorterStemmer, WordNetLemmatizer, SnowballStemmer, LancasterStemmer\n",
        "import nltk\n",
        "import string\n",
        "from nltk.corpus import stopwords\n",
        "from operator import itemgetter\n",
        "from collections import Counter\n",
        "nltk.download('stopwords')\n",
        "nltk.download('punkt')"
      ],
      "execution_count": 42,
      "outputs": [
        {
          "output_type": "stream",
          "name": "stdout",
          "text": [
            "[nltk_data] Downloading package stopwords to /root/nltk_data...\n",
            "[nltk_data]   Package stopwords is already up-to-date!\n",
            "[nltk_data] Downloading package punkt to /root/nltk_data...\n",
            "[nltk_data]   Package punkt is already up-to-date!\n"
          ]
        },
        {
          "output_type": "execute_result",
          "data": {
            "text/plain": [
              "True"
            ]
          },
          "metadata": {},
          "execution_count": 42
        }
      ]
    },
    {
      "cell_type": "markdown",
      "metadata": {
        "id": "t74s82tS8nek"
      },
      "source": [
        "We create a `tokenize` function, which removes the punctuation, remove english stopwords and then apply the stemming."
      ]
    },
    {
      "cell_type": "code",
      "metadata": {
        "id": "U_koxLr7SS93"
      },
      "source": [
        "def tokenize(text, stemmer):\n",
        "    text = \"\".join([ch for ch in text if ch not in string.punctuation])\n",
        "    tokens = nltk.word_tokenize(text)\n",
        "    return \" \".join([stemmer.stem(word.lower()) for word in tokens if word not in stopwords.words('english')])"
      ],
      "execution_count": 43,
      "outputs": []
    },
    {
      "cell_type": "markdown",
      "metadata": {
        "id": "SmUa9zYMehpx"
      },
      "source": [
        "We can choose between different stemming methods, so we try the three most commonly used (Porter, Snowball and Lancaster) on five random quotations on the dataset to see practically how they differ one from each other."
      ]
    },
    {
      "cell_type": "code",
      "metadata": {
        "colab": {
          "base_uri": "https://localhost:8080/"
        },
        "id": "r8QJ5lp4Sc1k",
        "outputId": "e08a4d58-e43b-4fb7-93cc-f278b0f47edd"
      },
      "source": [
        "for i in range(5):\n",
        "  print('quotation', i, ': ', df.iloc[i+100,1])"
      ],
      "execution_count": 44,
      "outputs": [
        {
          "output_type": "stream",
          "name": "stdout",
          "text": [
            "quotation 0 :  Regardless of what situation a mom presents herself in, (this program has the) connections across the community that you can actually show 15 years after the intervention. The little one is more likely to stay in high school, to get into the workforce and not be incarcerated.\n",
            "quotation 1 :  Sanders is appealing to them and if that doesn't work for them, then the Trump team hopes they'll come their way.\n",
            "quotation 2 :  She is in a bit of limbo at this point,\n",
            "quotation 3 :  single-best tool to inform decisions.\n",
            "quotation 4 :  So thank you to everybody who's doing what I'm doing, working from home to stop the spread of the virus from household to household. That's the way we're going to win. We're going to beat it and we're going to beat it together. Stay at home, protect the NHS, and save lives.\n"
          ]
        }
      ]
    },
    {
      "cell_type": "code",
      "metadata": {
        "colab": {
          "base_uri": "https://localhost:8080/"
        },
        "id": "9whOl72kSv2B",
        "outputId": "a40c3610-779e-4606-df5a-a8915b793264"
      },
      "source": [
        "# Porter Stemmer\n",
        "stemmer_p = PorterStemmer()\n",
        "\n",
        "for i in range(5):\n",
        "  print('quotation', i, ': ', tokenize(df.iloc[i+100,1], stemmer_p))"
      ],
      "execution_count": 45,
      "outputs": [
        {
          "output_type": "stream",
          "name": "stdout",
          "text": [
            "quotation 0 :  regardless situat mom present program connect across commun actual show 15 year intervent the littl one like stay high school get workforc incarcer\n",
            "quotation 1 :  sander appeal doesnt work trump team hope theyll come way\n",
            "quotation 2 :  she bit limbo point\n",
            "quotation 3 :  singlebest tool inform decis\n",
            "quotation 4 :  so thank everybodi who im work home stop spread viru household household that way go win were go beat go beat togeth stay home protect nh save live\n"
          ]
        }
      ]
    },
    {
      "cell_type": "code",
      "metadata": {
        "colab": {
          "base_uri": "https://localhost:8080/"
        },
        "id": "LqLszP-rZKr6",
        "outputId": "8b8ec0ab-428f-4f38-a226-66a4654d13c1"
      },
      "source": [
        "# Snowball Stemmer\n",
        "stemmer_s = SnowballStemmer('english')\n",
        "\n",
        "for i in range(5):\n",
        "  print('quotation', i, ': ', tokenize(df.iloc[i+100,1], stemmer_s))"
      ],
      "execution_count": 46,
      "outputs": [
        {
          "output_type": "stream",
          "name": "stdout",
          "text": [
            "quotation 0 :  regardless situat mom present program connect across communiti actual show 15 year intervent the littl one like stay high school get workforc incarcer\n",
            "quotation 1 :  sander appeal doesnt work trump team hope theyll come way\n",
            "quotation 2 :  she bit limbo point\n",
            "quotation 3 :  singlebest tool inform decis\n",
            "quotation 4 :  so thank everybodi whos im work home stop spread virus household household that way go win were go beat go beat togeth stay home protect nhs save live\n"
          ]
        }
      ]
    },
    {
      "cell_type": "code",
      "metadata": {
        "colab": {
          "base_uri": "https://localhost:8080/"
        },
        "id": "Zb3hF-n9bMQg",
        "outputId": "6b63dac0-f8fe-49f2-c0a6-7364e68b0651"
      },
      "source": [
        "# Lancaster\n",
        "stemmer_l = LancasterStemmer()\n",
        "\n",
        "for i in range(5):\n",
        "  print('quotation', i, ': ', tokenize(df.iloc[100+i,1], stemmer_l))"
      ],
      "execution_count": 47,
      "outputs": [
        {
          "output_type": "stream",
          "name": "stdout",
          "text": [
            "quotation 0 :  regardless situ mom pres program connect across commun act show 15 year interv the littl on lik stay high school get workforc incarc\n",
            "quotation 1 :  sand ap doesnt work trump team hop theyl com way\n",
            "quotation 2 :  she bit limbo point\n",
            "quotation 3 :  singlebest tool inform decid\n",
            "quotation 4 :  so thank everybody who im work hom stop spread vir household household that way going win wer going beat going beat togeth stay hom protect nhs sav liv\n"
          ]
        }
      ]
    },
    {
      "cell_type": "markdown",
      "metadata": {
        "id": "eFOAtF6ahyCL"
      },
      "source": [
        "We clearly see that Porter and Snowball are similar to each other while Lancaster is way more aggressive. Between Porter and Snowball we choose the latter one as, even if similar, we think that it is more appropriate for some types of words, as shown below:"
      ]
    },
    {
      "cell_type": "code",
      "metadata": {
        "colab": {
          "base_uri": "https://localhost:8080/"
        },
        "id": "_Pv_2zIpZboq",
        "outputId": "91a0d52f-2874-467b-a663-b1e358b2250c"
      },
      "source": [
        "# Porter\n",
        "print(stemmer_p.stem(\"generously\"))"
      ],
      "execution_count": 48,
      "outputs": [
        {
          "output_type": "stream",
          "name": "stdout",
          "text": [
            "gener\n"
          ]
        }
      ]
    },
    {
      "cell_type": "code",
      "metadata": {
        "colab": {
          "base_uri": "https://localhost:8080/"
        },
        "id": "907lObZYiLtR",
        "outputId": "7a7f1af3-734a-4960-9c3f-a7883edb8e65"
      },
      "source": [
        "# Snowball\n",
        "print(stemmer_s.stem(\"generously\"))"
      ],
      "execution_count": 49,
      "outputs": [
        {
          "output_type": "stream",
          "name": "stdout",
          "text": [
            "generous\n"
          ]
        }
      ]
    },
    {
      "cell_type": "markdown",
      "metadata": {
        "id": "T_rtqyHqqukk"
      },
      "source": [
        "Now we can procced with the creation of the vocabulary containing all the words of the quotations"
      ]
    },
    {
      "cell_type": "code",
      "metadata": {
        "id": "oM2ZhmjUnwnZ"
      },
      "source": [
        "quotations_list = df.loc[:,'quotation'].values.tolist() # Merge all the quotations in a single list"
      ],
      "execution_count": 50,
      "outputs": []
    },
    {
      "cell_type": "code",
      "metadata": {
        "id": "DM0lGO_Gq1_2"
      },
      "source": [
        "words = [tokenize(d, stemmer_s).split() for d in quotations_list] # create a list of all the single words in each quotation"
      ],
      "execution_count": 51,
      "outputs": []
    },
    {
      "cell_type": "markdown",
      "metadata": {
        "id": "nHsHqIOu3nQN"
      },
      "source": [
        "Finally from the `words` datset we can create the vocabulary, a list containg all the unique words contained in all the quotations."
      ]
    },
    {
      "cell_type": "code",
      "metadata": {
        "id": "mibaUL23q40u"
      },
      "source": [
        "vocabulary = list(set([item for sublist in words for item in sublist]))\n",
        "vocabulary.sort()"
      ],
      "execution_count": 52,
      "outputs": []
    },
    {
      "cell_type": "markdown",
      "metadata": {
        "id": "Dqo0f-4L5Yy-"
      },
      "source": [
        "If, for example, we want to assess the frequency of words in a single quotation (or in a subset of them) we can simply use the function `Counter`:"
      ]
    },
    {
      "cell_type": "code",
      "metadata": {
        "colab": {
          "base_uri": "https://localhost:8080/",
          "height": 52
        },
        "id": "S4i4AqD-5muZ",
        "outputId": "7d3cc7ea-1807-42b0-d7f5-ecb73230ddc3"
      },
      "source": [
        "df.iloc[10,1]"
      ],
      "execution_count": 53,
      "outputs": [
        {
          "output_type": "execute_result",
          "data": {
            "application/vnd.google.colaboratory.intrinsic+json": {
              "type": "string"
            },
            "text/plain": [
              "'arts workers are right up there. They are already feeling it and feeling an extreme loss of income and do see what is going to help them in the future.'"
            ]
          },
          "metadata": {},
          "execution_count": 53
        }
      ]
    },
    {
      "cell_type": "code",
      "metadata": {
        "colab": {
          "base_uri": "https://localhost:8080/"
        },
        "id": "ig42r6yotuRE",
        "outputId": "eb59be2f-130d-46e4-d64f-fa6558661ca8"
      },
      "source": [
        "Counter(words[10])"
      ],
      "execution_count": 54,
      "outputs": [
        {
          "output_type": "execute_result",
          "data": {
            "text/plain": [
              "Counter({'alreadi': 1,\n",
              "         'art': 1,\n",
              "         'extrem': 1,\n",
              "         'feel': 2,\n",
              "         'futur': 1,\n",
              "         'go': 1,\n",
              "         'help': 1,\n",
              "         'incom': 1,\n",
              "         'loss': 1,\n",
              "         'right': 1,\n",
              "         'see': 1,\n",
              "         'they': 1,\n",
              "         'worker': 1})"
            ]
          },
          "metadata": {},
          "execution_count": 54
        }
      ]
    },
    {
      "cell_type": "markdown",
      "metadata": {
        "id": "evFBeweF9lji"
      },
      "source": [
        "Using an external dataset about the most frequent words in english, coming from many different sources (Academic, Web, BLOGS, TV, spoken language etc.) we were able to build a function which checks if each word is more used in spoken language or academic setting."
      ]
    },
    {
      "cell_type": "code",
      "metadata": {
        "id": "GaWTeNi7_rNa"
      },
      "source": [
        "# import the additional dataset\n",
        "df_words = pd.read_excel ('/content/drive/MyDrive/wordFrequency.xlsx', sheet_name=\"1 lemmas\")\n",
        "df_words_cut = df_words[[\"lemma\", \"spokPM\", \"acadPM\"]]\n",
        "df_words_cut = df_words_cut.drop_duplicates(subset=['lemma'])"
      ],
      "execution_count": 55,
      "outputs": []
    },
    {
      "cell_type": "code",
      "metadata": {
        "colab": {
          "base_uri": "https://localhost:8080/"
        },
        "id": "MYCBOs6nANmU",
        "outputId": "be637087-c98c-4a9a-a45d-5a4eb7ac143d"
      },
      "source": [
        "def level_score(quote, verbose=True):\n",
        "  \"\"\"\n",
        "  Draft version of the function that will provide us a score indicative of the level of \n",
        "  language used. In this version, it compares the words of the quote with the dataset from COCA\n",
        "  and checks if each word is more used in spoken language or in academic setting.\n",
        "\n",
        "  Example of use:\n",
        "  level_score(\"Hypothesis testing is an act in statistics whereby an analyst tests an assumption regarding a population parameter\")\n",
        "\n",
        "  output:\n",
        "  tuple (number of words more used in spoken language, number of words more used in academic language)\n",
        "  \"\"\"\n",
        "  quote = quote.split()\n",
        "  data_words = df_words_cut[df_words_cut.isin(quote).lemma==True].copy()\n",
        "  data_words[\"spoken\"] = data_words[\"spokPM\"] > data_words[\"acadPM\"]\n",
        "  spoken_w = np.sum(data_words[\"spoken\"])\n",
        "  acad_w = len(data_words) - spoken_w\n",
        "  if verbose:\n",
        "    for i in quote:\n",
        "      output = \"Spoken language\" if data_words[data_words[\"lemma\"]==i][\"spoken\"].all() else \"Academic language\"\n",
        "      print(f\"{i}: {output}\")\n",
        "    print(\"\\n\")\n",
        "    print(f\"Count of spoken language words: {spoken_w}\")\n",
        "    print(f\"Count of academic language words: {acad_w}\")\n",
        "  return spoken_w, acad_w\n",
        "\n",
        "_, _ = level_score(\"Hypothesis testing is an act in statistics whereby an analyst tests an assumption regarding a population parameter\")"
      ],
      "execution_count": 56,
      "outputs": [
        {
          "output_type": "stream",
          "name": "stdout",
          "text": [
            "Hypothesis: Spoken language\n",
            "testing: Academic language\n",
            "is: Spoken language\n",
            "an: Spoken language\n",
            "act: Academic language\n",
            "in: Academic language\n",
            "statistics: Academic language\n",
            "whereby: Spoken language\n",
            "an: Spoken language\n",
            "analyst: Spoken language\n",
            "tests: Spoken language\n",
            "an: Spoken language\n",
            "assumption: Academic language\n",
            "regarding: Academic language\n",
            "a: Spoken language\n",
            "population: Academic language\n",
            "parameter: Academic language\n",
            "\n",
            "\n",
            "Count of spoken language words: 2\n",
            "Count of academic language words: 8\n"
          ]
        }
      ]
    },
    {
      "cell_type": "markdown",
      "metadata": {
        "id": "_T2a7gY7Bbp7"
      },
      "source": [
        "Building upon this function we will be able to build different metrics to evaluate the level of english of a certain quote considering in which setting each word is more likely to be used."
      ]
    },
    {
      "cell_type": "markdown",
      "metadata": {
        "id": "LhbQp-0nJ4Cp"
      },
      "source": [
        "With this data cleaning we performed, with the metrics we created, the creation of the vocabulary of words and their occurrences, and with the integration of the additional dataset, we will be able to perform the intended analysis about the differences in communication styles between politicians from different political parties."
      ]
    }
  ]
}